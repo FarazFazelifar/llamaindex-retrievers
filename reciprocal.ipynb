{
 "cells": [
  {
   "cell_type": "markdown",
   "metadata": {},
   "source": [
    "# Reciprocal Retriever\n",
    "By combining the results from multiple retrievers, this retriever aims to improve the accuracy and relevance of search results. It employs reciprocal rank fusion, a technique that prioritizes results that consistently rank highly across different retrievers, ensuring that the most relevant information is presented to the user.\n",
    "\n",
    "Pros:\n",
    "\n",
    "\n",
    "\n",
    "- Prioritization of Consistent Results: By combining multiple retrievers and using reciprocal rank fusion, this method emphasizes results that consistently rank high across different approaches, potentially improving reliability.\n",
    "\n",
    "\n",
    "Cons:\n",
    "\n",
    "\n",
    "\n",
    "- Sensitivity to Retriever Performance: The effectiveness of this fusion technique depends on the quality and diversity of the individual retrievers being combined. This information is not from the sources, you may want to verify it independently."
   ]
  },
  {
   "cell_type": "code",
   "execution_count": 1,
   "metadata": {},
   "outputs": [],
   "source": [
    "from llama_index.core import Settings\n",
    "from llama_index.embeddings.ollama import OllamaEmbedding\n",
    "from llama_index.llms.ollama import Ollama\n",
    "\n",
    "ollama_embedding = OllamaEmbedding(\n",
    "    model_name=\"mxbai-embed-large\",\n",
    "    base_url=\"http://localhost:11434\",\n",
    ")\n",
    "\n",
    "ollama = Ollama(\n",
    "    model=\"llama3.2:3b-instruct-fp16\",\n",
    "    base_url=\"http://localhost:11434\"\n",
    ")\n",
    "\n",
    "Settings.llm = ollama\n",
    "Settings.embed_model = ollama_embedding"
   ]
  },
  {
   "cell_type": "code",
   "execution_count": 2,
   "metadata": {},
   "outputs": [],
   "source": [
    "from llama_index.core import SimpleDirectoryReader\n",
    "\n",
    "documents = SimpleDirectoryReader(input_files=[\"../documents/ods-cpp (1).pdf\"]).load_data()"
   ]
  },
  {
   "cell_type": "code",
   "execution_count": 3,
   "metadata": {},
   "outputs": [],
   "source": [
    "from llama_index.core import VectorStoreIndex\n",
    "from llama_index.core.node_parser import SentenceSplitter\n",
    "\n",
    "splitter = SentenceSplitter(chunk_size=256)\n",
    "\n",
    "index = VectorStoreIndex.from_documents(documents, transformations=[splitter])"
   ]
  },
  {
   "cell_type": "code",
   "execution_count": 4,
   "metadata": {},
   "outputs": [
    {
     "name": "stderr",
     "output_type": "stream",
     "text": [
      "/home/research/Faraz/Ollama_retrievers/.venv/lib/python3.10/site-packages/tqdm/auto.py:21: TqdmWarning: IProgress not found. Please update jupyter and ipywidgets. See https://ipywidgets.readthedocs.io/en/stable/user_install.html\n",
      "  from .autonotebook import tqdm as notebook_tqdm\n"
     ]
    }
   ],
   "source": [
    "from llama_index.retrievers.bm25 import BM25Retriever\n",
    "\n",
    "vector_retriever = index.as_retriever(similarity_top_k=2)\n",
    "\n",
    "bm25_retriever = BM25Retriever.from_defaults(\n",
    "    docstore=index.docstore, similarity_top_k=2\n",
    ")"
   ]
  },
  {
   "cell_type": "code",
   "execution_count": 5,
   "metadata": {},
   "outputs": [],
   "source": [
    "from llama_index.core.retrievers import QueryFusionRetriever\n",
    "\n",
    "retriever = QueryFusionRetriever(\n",
    "    [vector_retriever, bm25_retriever],\n",
    "    similarity_top_k=2,\n",
    "    num_queries=4,  # set this to 1 to disable query generation\n",
    "    mode=\"reciprocal_rerank\",\n",
    "    use_async=True,\n",
    "    verbose=True,\n",
    "    # query_gen_prompt=\"...\",  # we could override the query generation prompt here\n",
    ")"
   ]
  },
  {
   "cell_type": "code",
   "execution_count": 6,
   "metadata": {},
   "outputs": [],
   "source": [
    "# apply nested async to run in a notebook\n",
    "import nest_asyncio\n",
    "\n",
    "nest_asyncio.apply()"
   ]
  },
  {
   "cell_type": "code",
   "execution_count": 7,
   "metadata": {},
   "outputs": [
    {
     "name": "stdout",
     "output_type": "stream",
     "text": [
      "Generated queries:\n",
      "Here are three search queries generated from your input:\n",
      "1. \"data structures stack vs queue\"\n",
      "2. \"programming language concepts stack vs queue\"\n",
      "3. \"algorithms stack vs queue differences\"\n"
     ]
    }
   ],
   "source": [
    "nodes_with_scores = retriever.retrieve(\n",
    "    \"What is the difference between stack and queue?\"\n",
    ")"
   ]
  },
  {
   "cell_type": "code",
   "execution_count": 8,
   "metadata": {},
   "outputs": [
    {
     "name": "stdout",
     "output_type": "stream",
     "text": [
      "Score: 0.03 - The\n",
      "structures in this chapter are made up of nodes that contain the list items.\n",
      "Using references (pointers), the nodes are linked together into a sequence.\n",
      "We ﬁrst study singly-linked lists, which can implement Stack and (FIFO)\n",
      "Queue operations in constant time per operation and then move on to\n",
      "doubly-linked lists, which can implement Deque operations in constant\n",
      "time.\n",
      "Linked lists have advantages and disadvantages when compared to\n",
      "array-based implementations of the List interface. The primary disad-\n",
      "vantage is that we lose the ability to access any element using get(i) or\n",
      "set(i,x) in constant time. Instead, we have to walk through the list, one\n",
      "element at a time, until we reach the ith element. The primary advantage\n",
      "is that they are more dynamic: Given a reference to any list node u, we\n",
      "can delete uor insert a node adjacent to uin constant time. This is true\n",
      "no matter where uis in the list....\n",
      "-----\n",
      "\n",
      "Score: 0.03 - · · ·\n",
      "remove ()/pop ()add (x)/push (x)\n",
      "x\n",
      "Figure 1.3: A stack.\n",
      "removed from the top of the stack. This structure is so common that it\n",
      "gets its own name: Stack . Often, when discussing a Stack , the names\n",
      "ofadd(x) and remove () are changed to push (x) and pop(); this is to avoid\n",
      "confusing the LIFO and FIFO queueing disciplines.\n",
      "ADeque is a generalization of both the FIFO Queue and LIFO Queue\n",
      "(Stack ). A Deque represents a sequence of elements, with a front and a\n",
      "back. Elements can be added at the front of the sequence or the back of\n",
      "the sequence. The names of the Deque operations are self-explanatory:\n",
      "addFirst (x),removeFirst (),addLast (x), and removeLast (). It is worth\n",
      "noting that a Stack can be implemented using only addFirst (x) and\n",
      "removeFirst () while a FIFO Queue can be implemented using addLast (x)\n",
      "andremoveFirst ()....\n",
      "-----\n",
      "\n"
     ]
    }
   ],
   "source": [
    "for node in nodes_with_scores:\n",
    "    print(f\"Score: {node.score:.2f} - {node.text}...\\n-----\\n\")"
   ]
  },
  {
   "cell_type": "code",
   "execution_count": 9,
   "metadata": {},
   "outputs": [],
   "source": [
    "from llama_index.core.query_engine import RetrieverQueryEngine\n",
    "\n",
    "query_engine = RetrieverQueryEngine.from_args(retriever)"
   ]
  },
  {
   "cell_type": "code",
   "execution_count": 12,
   "metadata": {},
   "outputs": [
    {
     "name": "stdout",
     "output_type": "stream",
     "text": [
      "Generated queries:\n",
      "Here are three search queries related to your input:\n",
      "1. \"data structure comparison stack vs queue\"\n",
      "2. \"stack vs queue in computer science explanation\"\n",
      "3. \"difference between LIFO and FIFO data structures\"\n"
     ]
    }
   ],
   "source": [
    "response = query_engine.query(\"What is the difference between stack and queue?\")\n"
   ]
  },
  {
   "cell_type": "code",
   "execution_count": 13,
   "metadata": {},
   "outputs": [
    {
     "data": {
      "text/markdown": [
       "**`Final Response:`** A Stack and a Queue are two different data structures that differ in how elements are added and removed.\n",
       "\n",
       "In a Stack, elements are added to the top of the structure and removed from the top. This means that the most recently added element is also the first one to be removed. A Queue, on the other hand, is a First-In-First-Out (FIFO) data structure, where elements are added to the end and removed from the front.\n",
       "\n",
       "This difference in ordering makes Stacks and Queues distinct and useful for different applications."
      ],
      "text/plain": [
       "<IPython.core.display.Markdown object>"
      ]
     },
     "metadata": {},
     "output_type": "display_data"
    }
   ],
   "source": [
    "from llama_index.core.response.notebook_utils import display_response\n",
    "\n",
    "display_response(response)"
   ]
  },
  {
   "cell_type": "code",
   "execution_count": null,
   "metadata": {},
   "outputs": [],
   "source": []
  }
 ],
 "metadata": {
  "kernelspec": {
   "display_name": ".venv",
   "language": "python",
   "name": "python3"
  },
  "language_info": {
   "codemirror_mode": {
    "name": "ipython",
    "version": 3
   },
   "file_extension": ".py",
   "mimetype": "text/x-python",
   "name": "python",
   "nbconvert_exporter": "python",
   "pygments_lexer": "ipython3",
   "version": "3.10.12"
  }
 },
 "nbformat": 4,
 "nbformat_minor": 2
}
