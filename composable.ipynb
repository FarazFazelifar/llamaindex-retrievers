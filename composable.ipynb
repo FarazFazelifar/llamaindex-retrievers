{
 "cells": [
  {
   "cell_type": "markdown",
   "metadata": {},
   "source": [
    "# Composable Objects\n",
    "- Pros:\n",
    "  - Can fully customize:\n",
    "    - query engine\n",
    "    - retriever\n",
    "    - query pipeline\n",
    "    - another node\n",
    "  - Can save and load data easily"
   ]
  },
  {
   "cell_type": "code",
   "execution_count": 10,
   "metadata": {},
   "outputs": [],
   "source": [
    "from llama_index.core import Settings\n",
    "from llama_index.embeddings.ollama import OllamaEmbedding\n",
    "from llama_index.llms.ollama import Ollama\n",
    "\n",
    "ollama_embedding = OllamaEmbedding(\n",
    "    model_name=\"mxbai-embed-large\",\n",
    "    base_url=\"http://localhost:11434\",\n",
    ")\n",
    "\n",
    "ollama = Ollama(\n",
    "    model=\"llama3.2:3b-instruct-fp16\",\n",
    "    base_url=\"http://localhost:11434\"\n",
    ")\n",
    "\n",
    "Settings.llm = ollama\n",
    "Settings.embed_model = ollama_embedding"
   ]
  },
  {
   "cell_type": "code",
   "execution_count": 3,
   "metadata": {},
   "outputs": [],
   "source": [
    "from llama_index.core import download_loader\n",
    "\n",
    "from llama_index.readers.file import PyMuPDFReader\n",
    "\n",
    "llama2_docs = PyMuPDFReader().load_data(\n",
    "    file_path=\"../documents/ods-cpp (1).pdf\", metadata=True\n",
    ")\n",
    "attention_docs = PyMuPDFReader().load_data(\n",
    "    file_path=\"../documents/RAT.pdf\", metadata=True\n",
    ")"
   ]
  },
  {
   "cell_type": "code",
   "execution_count": 4,
   "metadata": {},
   "outputs": [],
   "source": [
    "from llama_index.core.node_parser import TokenTextSplitter\n",
    "\n",
    "nodes = TokenTextSplitter(\n",
    "    chunk_size=1024, chunk_overlap=128\n",
    ").get_nodes_from_documents(llama2_docs + attention_docs)"
   ]
  },
  {
   "cell_type": "code",
   "execution_count": 6,
   "metadata": {},
   "outputs": [],
   "source": [
    "from llama_index.core.storage.docstore import SimpleDocumentStore\n",
    "from llama_index.storage.docstore.redis import RedisDocumentStore\n",
    "from llama_index.storage.docstore.mongodb import MongoDocumentStore\n",
    "from llama_index.storage.docstore.firestore import FirestoreDocumentStore\n",
    "from llama_index.storage.docstore.dynamodb import DynamoDBDocumentStore\n",
    "\n",
    "docstore = SimpleDocumentStore()\n",
    "docstore.add_documents(nodes)"
   ]
  },
  {
   "cell_type": "code",
   "execution_count": 12,
   "metadata": {},
   "outputs": [],
   "source": [
    "from llama_index.core import VectorStoreIndex, StorageContext\n",
    "from llama_index.retrievers.bm25 import BM25Retriever\n",
    "from llama_index.vector_stores.qdrant import QdrantVectorStore\n",
    "from qdrant_client import QdrantClient\n",
    "\n",
    "client = QdrantClient(path=\"../composable/qdrant_data\")\n",
    "vector_store = QdrantVectorStore(\"composable\", client=client)\n",
    "storage_context = StorageContext.from_defaults(vector_store=vector_store)\n",
    "\n",
    "index = VectorStoreIndex(nodes=nodes)\n",
    "vector_retriever = index.as_retriever(similarity_top_k=2)\n",
    "bm25_retriever = BM25Retriever.from_defaults(\n",
    "    docstore=docstore, similarity_top_k=2\n",
    ")"
   ]
  },
  {
   "cell_type": "code",
   "execution_count": 13,
   "metadata": {},
   "outputs": [],
   "source": [
    "from llama_index.core.schema import IndexNode\n",
    "\n",
    "vector_obj = IndexNode(\n",
    "    index_id=\"vector\", obj=vector_retriever, text=\"Vector Retriever\"\n",
    ")\n",
    "bm25_obj = IndexNode(\n",
    "    index_id=\"bm25\", obj=bm25_retriever, text=\"BM25 Retriever\"\n",
    ")"
   ]
  },
  {
   "cell_type": "code",
   "execution_count": 14,
   "metadata": {},
   "outputs": [],
   "source": [
    "from llama_index.core import SummaryIndex\n",
    "\n",
    "summary_index = SummaryIndex(objects=[vector_obj, bm25_obj])"
   ]
  },
  {
   "cell_type": "code",
   "execution_count": 15,
   "metadata": {},
   "outputs": [],
   "source": [
    "query_engine = summary_index.as_query_engine(\n",
    "    response_mode=\"tree_summarize\", verbose=True\n",
    ")"
   ]
  },
  {
   "cell_type": "code",
   "execution_count": 16,
   "metadata": {},
   "outputs": [
    {
     "name": "stdout",
     "output_type": "stream",
     "text": [
      "\u001b[1;3;38;2;11;159;203mRetrieval entering vector: VectorIndexRetriever\n",
      "\u001b[0m\u001b[1;3;38;2;11;159;203mRetrieval entering bm25: BM25Retriever\n",
      "\u001b[0m"
     ]
    }
   ],
   "source": [
    "response = await query_engine.aquery(\n",
    "    \"What is the difference between stack and queue?\"\n",
    ")"
   ]
  },
  {
   "cell_type": "code",
   "execution_count": 17,
   "metadata": {},
   "outputs": [
    {
     "name": "stdout",
     "output_type": "stream",
     "text": [
      "A stack and a queue are both data structures that follow a specific ordering of elements, but they differ in how elements are added and removed.\n",
      "\n",
      "In a stack, elements are added and removed from one end, known as the top or apex. This means that the most recently added element is always at the top of the stack and is the first one to be removed when the pop operation is performed.\n",
      "\n",
      "On the other hand, a queue is a collection of elements where elements are added to one end and removed from the other end. The order in which elements are added determines the order in which they will be removed. This means that an element added early in the queue will be removed before an element added later.\n",
      "\n",
      "To illustrate this difference, consider a stack as a vertical pile of plates. When you add a new plate to the top of the pile, it becomes the topmost plate and is the first one to be removed when you take a plate off the top. In contrast, a queue is like a line of people waiting for service at a counter. People enter the line from one end and are served from the other end in the order they entered.\n",
      "\n",
      "In terms of operations, a stack typically supports push and pop operations, while a queue supports enqueue and dequeue operations. However, it's worth noting that some data structures, such as stacks implemented using queues or deques, may use different operation names to avoid confusion between LIFO (last-in-first-out) and FIFO (first-in-first-out) queueing disciplines.\n"
     ]
    }
   ],
   "source": [
    "print(str(response))"
   ]
  },
  {
   "cell_type": "code",
   "execution_count": 18,
   "metadata": {},
   "outputs": [],
   "source": [
    "# qdrant is already saved automatically!\n",
    "# we only need to save the docstore here\n",
    "\n",
    "# save our docstore nodes for bm25\n",
    "docstore.persist(\"./docstore.json\")"
   ]
  },
  {
   "cell_type": "markdown",
   "metadata": {},
   "source": [
    "## Load"
   ]
  },
  {
   "cell_type": "code",
   "execution_count": 19,
   "metadata": {},
   "outputs": [],
   "source": [
    "from llama_index.core.storage.docstore import SimpleDocumentStore\n",
    "from llama_index.vector_stores.qdrant import QdrantVectorStore\n",
    "from qdrant_client import QdrantClient\n",
    "\n",
    "docstore = SimpleDocumentStore.from_persist_path(\"./docstore.json\")\n",
    "\n",
    "client = QdrantClient(path=\"./qdrant_data\")\n",
    "vector_store = QdrantVectorStore(\"composable\", client=client)"
   ]
  },
  {
   "cell_type": "code",
   "execution_count": 20,
   "metadata": {},
   "outputs": [],
   "source": [
    "from llama_index.core.schema import IndexNode\n",
    "\n",
    "vector_obj = IndexNode(\n",
    "    index_id=\"vector\", obj=vector_retriever, text=\"Vector Retriever\"\n",
    ")\n",
    "bm25_obj = IndexNode(\n",
    "    index_id=\"bm25\", obj=bm25_retriever, text=\"BM25 Retriever\"\n",
    ")"
   ]
  },
  {
   "cell_type": "code",
   "execution_count": null,
   "metadata": {},
   "outputs": [],
   "source": []
  }
 ],
 "metadata": {
  "kernelspec": {
   "display_name": ".venv",
   "language": "python",
   "name": "python3"
  },
  "language_info": {
   "codemirror_mode": {
    "name": "ipython",
    "version": 3
   },
   "file_extension": ".py",
   "mimetype": "text/x-python",
   "name": "python",
   "nbconvert_exporter": "python",
   "pygments_lexer": "ipython3",
   "version": "3.10.12"
  }
 },
 "nbformat": 4,
 "nbformat_minor": 2
}
