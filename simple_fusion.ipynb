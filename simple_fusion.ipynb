{
 "cells": [
  {
   "cell_type": "markdown",
   "metadata": {},
   "source": [
    "# Fusion Retriever\n",
    "This retriever takes a straightforward approach to combining results from multiple retrievers. It simply concatenates the results from different retrievers, providing a combined set of potentially relevant information without any complex ranking or prioritization\n",
    "\n",
    "Pros:\n",
    "\n",
    "\n",
    "\n",
    "- Straightforward Combination: Offers a simple way to merge results from multiple retrievers by concatenating them.\n",
    "\n",
    "\n",
    "Cons:\n",
    "\n",
    "\n",
    "\n",
    "Lack of Ranking Sophistication:  May not effectively prioritize the most relevant results as it does not employ a ranking algorithm to order the merged output."
   ]
  },
  {
   "cell_type": "code",
   "execution_count": 1,
   "metadata": {},
   "outputs": [],
   "source": [
    "from llama_index.core import Settings\n",
    "from llama_index.embeddings.ollama import OllamaEmbedding\n",
    "from llama_index.llms.ollama import Ollama\n",
    "\n",
    "ollama_embedding = OllamaEmbedding(\n",
    "    model_name=\"mxbai-embed-large\",\n",
    "    base_url=\"http://localhost:11434\",\n",
    ")\n",
    "\n",
    "ollama = Ollama(\n",
    "    model=\"llama3.2:3b-instruct-fp16\",\n",
    "    base_url=\"http://localhost:11434\"\n",
    ")\n",
    "\n",
    "Settings.llm = ollama\n",
    "Settings.embed_model = ollama_embedding"
   ]
  },
  {
   "cell_type": "code",
   "execution_count": 2,
   "metadata": {},
   "outputs": [],
   "source": [
    "from llama_index.core import SimpleDirectoryReader\n",
    "\n",
    "documents_1 = SimpleDirectoryReader(\n",
    "    input_files=[\"../documents/ods-cpp (1).pdf\"]\n",
    ").load_data()\n",
    "documents_2 = SimpleDirectoryReader(\n",
    "    input_files=[\"../documents/RAT.pdf\"]\n",
    ").load_data()"
   ]
  },
  {
   "cell_type": "code",
   "execution_count": 3,
   "metadata": {},
   "outputs": [],
   "source": [
    "from llama_index.core import VectorStoreIndex\n",
    "\n",
    "index_1 = VectorStoreIndex.from_documents(documents_1)\n",
    "index_2 = VectorStoreIndex.from_documents(documents_2)"
   ]
  },
  {
   "cell_type": "code",
   "execution_count": 4,
   "metadata": {},
   "outputs": [],
   "source": [
    "from llama_index.core.retrievers import QueryFusionRetriever\n",
    "\n",
    "retriever = QueryFusionRetriever(\n",
    "    [index_1.as_retriever(), index_2.as_retriever()],\n",
    "    similarity_top_k=2,\n",
    "    num_queries=4,  # set this to 1 to disable query generation\n",
    "    use_async=True,\n",
    "    verbose=True,\n",
    "    # query_gen_prompt=\"...\",  # we could override the query generation prompt here\n",
    ")"
   ]
  },
  {
   "cell_type": "code",
   "execution_count": 5,
   "metadata": {},
   "outputs": [],
   "source": [
    "# apply nested async to run in a notebook\n",
    "import nest_asyncio\n",
    "\n",
    "nest_asyncio.apply()"
   ]
  },
  {
   "cell_type": "code",
   "execution_count": 6,
   "metadata": {},
   "outputs": [
    {
     "name": "stdout",
     "output_type": "stream",
     "text": [
      "Generated queries:\n",
      "Here are three search queries based on your input:\n",
      "1. How does a stack differ from a data structure that follows the FIFO (first-in-first-out) principle?\n",
      "2. In computer science, what is the main distinction between using a last-in-first-out (LIFO) approach and using a queue to manage elements?\n",
      "3. What are the key differences in terms of algorithmic usage and application between stacks and queues in programming?\n"
     ]
    }
   ],
   "source": [
    "nodes_with_scores = retriever.retrieve(\"What is the difference between stack and queue?\")"
   ]
  },
  {
   "cell_type": "code",
   "execution_count": 7,
   "metadata": {},
   "outputs": [
    {
     "name": "stdout",
     "output_type": "stream",
     "text": [
      "Score: 0.79 - Interfaces §1.2\n",
      "x · · ·\n",
      "add (x)/enqueue (x) remove ()/dequeue ()\n",
      "Figure 1.1: A FIFO Queue .\n",
      "1.2.1 Th...\n",
      "Score: 0.76 - §1.2 Introduction\n",
      "16add(x)remove ()/deleteMin ()\n",
      "x6\n",
      "133\n",
      "Figure 1.2: A priority Queue .\n",
      "· · ·\n",
      "remove ...\n"
     ]
    }
   ],
   "source": [
    "for node in nodes_with_scores:\n",
    "    print(f\"Score: {node.score:.2f} - {node.text[:100]}...\")"
   ]
  },
  {
   "cell_type": "code",
   "execution_count": 8,
   "metadata": {},
   "outputs": [],
   "source": [
    "from llama_index.core.query_engine import RetrieverQueryEngine\n",
    "\n",
    "query_engine = RetrieverQueryEngine.from_args(retriever)"
   ]
  },
  {
   "cell_type": "code",
   "execution_count": 9,
   "metadata": {},
   "outputs": [
    {
     "name": "stdout",
     "output_type": "stream",
     "text": [
      "Generated queries:\n",
      "Here are three generated search queries related to your input:\n",
      "1. \"data structure comparison stack vs queue\"\n",
      "2. \"programming concepts stack vs queue\"\n",
      "3. \"algorithms difference between stack and queue\"\n"
     ]
    }
   ],
   "source": [
    "response = query_engine.query(\n",
    "    \"What is the difference between stack and queue?\"\n",
    ")"
   ]
  },
  {
   "cell_type": "code",
   "execution_count": 10,
   "metadata": {},
   "outputs": [
    {
     "data": {
      "text/markdown": [
       "**`Final Response:`** One of the main differences between a stack and a queue is how elements are accessed. In a stack, elements are added and removed from one end (usually referred to as the top or head), which involves choosing that specific index upon which to perform operations.\n",
       "\n",
       "In contrast, for an efficient array-based implementation of a queue, it would be better to maintain two separate indices: one keeping track of the next element to remove (tail) and another counting the number of elements in the queue. This allows for more balanced and efficient access to both the front and back of the queue."
      ],
      "text/plain": [
       "<IPython.core.display.Markdown object>"
      ]
     },
     "metadata": {},
     "output_type": "display_data"
    }
   ],
   "source": [
    "from llama_index.core.response.notebook_utils import display_response\n",
    "\n",
    "display_response(response)"
   ]
  },
  {
   "cell_type": "code",
   "execution_count": null,
   "metadata": {},
   "outputs": [],
   "source": []
  }
 ],
 "metadata": {
  "kernelspec": {
   "display_name": ".venv",
   "language": "python",
   "name": "python3"
  },
  "language_info": {
   "codemirror_mode": {
    "name": "ipython",
    "version": 3
   },
   "file_extension": ".py",
   "mimetype": "text/x-python",
   "name": "python",
   "nbconvert_exporter": "python",
   "pygments_lexer": "ipython3",
   "version": "3.10.12"
  }
 },
 "nbformat": 4,
 "nbformat_minor": 2
}
