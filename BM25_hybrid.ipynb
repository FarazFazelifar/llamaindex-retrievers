{
 "cells": [
  {
   "cell_type": "markdown",
   "metadata": {},
   "source": [
    "# BM25 Retriever\n",
    "This retriever specializes in keyword-based retrieval. It leverages the BM25 ranking algorithm, an advanced version of TF-IDF, to identify and rank documents based on the presence and frequency of keywords within them. This allows for efficient retrieval of information that directly matches the user's search terms.\n",
    "\n",
    "\n",
    "Pros:\n",
    "\n",
    "\n",
    "\n",
    "- Established Ranking Algorithm: Leverages the widely used and well-studied BM25 algorithm (an extension of TF-IDF) for robust keyword-based retrieval.\n",
    "\n",
    "\n",
    "Cons:\n",
    "\n",
    "\n",
    "\n",
    "- Limitations of Keyword-Based Approach: Shares the general limitations of keyword retrievers in terms of semantic understanding and handling conceptual queries. This information is not from the sources, you may want to verify it independently\n",
    "    "
   ]
  },
  {
   "cell_type": "code",
   "execution_count": 1,
   "metadata": {},
   "outputs": [],
   "source": [
    "from llama_index.core import Settings\n",
    "from llama_index.embeddings.ollama import OllamaEmbedding\n",
    "from llama_index.llms.ollama import Ollama\n",
    "\n",
    "ollama_embedding = OllamaEmbedding(\n",
    "    model_name=\"mxbai-embed-large\",\n",
    "    base_url=\"http://localhost:11434\",\n",
    ")\n",
    "\n",
    "ollama = Ollama(\n",
    "    model=\"llama3.2:3b-instruct-fp16\",\n",
    "    base_url=\"http://localhost:11434\"\n",
    ")\n",
    "\n",
    "Settings.llm = ollama\n",
    "Settings.embed_model = ollama_embedding"
   ]
  },
  {
   "cell_type": "code",
   "execution_count": 2,
   "metadata": {},
   "outputs": [],
   "source": [
    "from llama_index.core import SimpleDirectoryReader\n",
    "\n",
    "# load documents\n",
    "documents = SimpleDirectoryReader(input_files=[\"../documents/ods-cpp (1).pdf\"]).load_data()\n",
    "from llama_index.core.node_parser import SentenceSplitter\n",
    "\n",
    "# initialize node parser\n",
    "splitter = SentenceSplitter(chunk_size=512)\n",
    "\n",
    "nodes = splitter.get_nodes_from_documents(documents)"
   ]
  },
  {
   "cell_type": "code",
   "execution_count": 3,
   "metadata": {},
   "outputs": [
    {
     "name": "stderr",
     "output_type": "stream",
     "text": [
      "/home/research/Faraz/Ollama_retrievers/.venv/lib/python3.10/site-packages/tqdm/auto.py:21: TqdmWarning: IProgress not found. Please update jupyter and ipywidgets. See https://ipywidgets.readthedocs.io/en/stable/user_install.html\n",
      "  from .autonotebook import tqdm as notebook_tqdm\n"
     ]
    }
   ],
   "source": [
    "from llama_index.retrievers.bm25 import BM25Retriever\n",
    "import Stemmer\n",
    "\n",
    "# We can pass in the index, docstore, or list of nodes to create the retriever\n",
    "bm25_retriever = BM25Retriever.from_defaults(\n",
    "    nodes=nodes,\n",
    "    similarity_top_k=2,\n",
    "    # Optional: We can pass in the stemmer and set the language for stopwords\n",
    "    # This is important for removing stopwords and stemming the query + text\n",
    "    # The default is english for both\n",
    "    stemmer=Stemmer.Stemmer(\"english\"),\n",
    "    language=\"english\",\n",
    ")"
   ]
  },
  {
   "cell_type": "code",
   "execution_count": 4,
   "metadata": {},
   "outputs": [
    {
     "name": "stderr",
     "output_type": "stream",
     "text": [
      "Finding newlines for mmindex: 100%|██████████| 1.57M/1.57M [00:00<00:00, 377MB/s]\n"
     ]
    }
   ],
   "source": [
    "bm25_retriever.persist(\"./bm25_retriever\")\n",
    "\n",
    "loaded_bm25_retriever = BM25Retriever.from_persist_dir(\"./bm25_retriever\")"
   ]
  },
  {
   "cell_type": "code",
   "execution_count": 5,
   "metadata": {},
   "outputs": [],
   "source": [
    "# initialize a docstore to store nodes\n",
    "# also available are mongodb, redis, postgres, etc for docstores\n",
    "from llama_index.core.storage.docstore import SimpleDocumentStore\n",
    "\n",
    "docstore = SimpleDocumentStore()\n",
    "docstore.add_documents(nodes)"
   ]
  },
  {
   "cell_type": "code",
   "execution_count": 6,
   "metadata": {},
   "outputs": [],
   "source": [
    "from llama_index.retrievers.bm25 import BM25Retriever\n",
    "import Stemmer\n",
    "\n",
    "# We can pass in the index, docstore, or list of nodes to create the retriever\n",
    "bm25_retriever = BM25Retriever.from_defaults(\n",
    "    docstore=docstore,\n",
    "    similarity_top_k=2,\n",
    "    # Optional: We can pass in the stemmer and set the language for stopwords\n",
    "    # This is important for removing stopwords and stemming the query + text\n",
    "    # The default is english for both\n",
    "    stemmer=Stemmer.Stemmer(\"english\"),\n",
    "    language=\"english\",\n",
    ")"
   ]
  },
  {
   "cell_type": "code",
   "execution_count": 7,
   "metadata": {},
   "outputs": [
    {
     "data": {
      "text/markdown": [
       "**Node ID:** 4aa6d813-4099-4ca1-a1b9-37334b69244e<br>**Similarity:** 3.930213451385498<br>**Text:** §1.2 Introduction\n",
       "16add(x)remove ()/deleteMin ()\n",
       "x6\n",
       "133\n",
       "Figure 1.2: A priority Queue .\n",
       "· · ·\n",
       "remove ()/pop ()add (x)/push (x)\n",
       "x\n",
       "Figure 1.3: A stack.\n",
       "removed from the top of the stack. This structure is so common that it\n",
       "gets its own name: Stack . Often, when discussing a Stack , the names\n",
       "ofadd(x) and remove () are changed to push (x) and pop(); this is to avoid\n",
       "confusing the LIFO and FIFO queueing disciplines.\n",
       "ADeque is a generalization of both the FIFO Queue and LIFO Queue\n",
       "(Stack ). A Deque represents a sequence of elements, with a front and a\n",
       "back. Elements can be added at the front of the sequence or the back of\n",
       "the sequence. The names of the Deque operations are self-explanatory:\n",
       "addFirst (x),removeFirst (),addLast (x), and removeLast (). It is worth\n",
       "noting that a Stack can be implemented using only addFirst (x) and\n",
       "removeFirst () while a FIFO Queue can be implemented using addLast (x)\n",
       "andremoveFirst ().\n",
       "1.2.2 The List Interface: Linear Sequences\n",
       "This book will talk very little about the FIFO Queue ,Stack , orDeque in-\n",
       "terfaces. This is because these interfaces are subsumed by the List inter-\n",
       "face. A List , illustrated in Figure 1.4, represents a sequence, x0,...,xn−1,\n",
       "6<br>"
      ],
      "text/plain": [
       "<IPython.core.display.Markdown object>"
      ]
     },
     "metadata": {},
     "output_type": "display_data"
    },
    {
     "data": {
      "text/markdown": [
       "**Node ID:** 7dfa3f13-2951-42f7-9e8d-008f0c112c35<br>**Similarity:** 3.764336585998535<br>**Text:** For example,\n",
       "+1,−1,+1,−1 is a Dyck word, but +1 ,−1,−1,+1 is not a Dyck word since\n",
       "the preﬁx +1−1−1<0. Describe any relationship between Dyck words\n",
       "andStack push (x) and pop() operations.\n",
       "Exercise 1.3. Amatched string is a sequence of{,}, (, ), [, and ] characters\n",
       "that are properly matched. For example, “ {{()[]}}” is a matched string, but\n",
       "this “{{()]}” is not, since the second {is matched with a ]. Show how to\n",
       "use a stack so that, given a string of length n, you can determine if it is a\n",
       "matched string in O(n) time.\n",
       "Exercise 1.4. Suppose you have a Stack ,s, that supports only the push (x)\n",
       "and pop() operations. Show how, using only a FIFO Queue ,q, you can\n",
       "reverse the order of all elements in s.\n",
       "Exercise 1.5. Using a USet , implement a Bag. ABagis like a USet —it sup-\n",
       "ports the add(x),remove (x) and find (x) methods—but it allows duplicate\n",
       "27<br>"
      ],
      "text/plain": [
       "<IPython.core.display.Markdown object>"
      ]
     },
     "metadata": {},
     "output_type": "display_data"
    }
   ],
   "source": [
    "from llama_index.core.response.notebook_utils import display_source_node\n",
    "\n",
    "# will retrieve context from specific companies\n",
    "retrieved_nodes = bm25_retriever.retrieve(\n",
    "    \"What is the difference between stack and queue?\"\n",
    ")\n",
    "for node in retrieved_nodes:\n",
    "    display_source_node(node, source_length=5000)"
   ]
  },
  {
   "cell_type": "code",
   "execution_count": 8,
   "metadata": {},
   "outputs": [
    {
     "data": {
      "text/markdown": [
       "**Node ID:** 4aa6d813-4099-4ca1-a1b9-37334b69244e<br>**Similarity:** 3.930213451385498<br>**Text:** §1.2 Introduction\n",
       "16add(x)remove ()/deleteMin ()\n",
       "x6\n",
       "133\n",
       "Figure 1.2: A priority Queue .\n",
       "· · ·\n",
       "remove ()/pop ()add (x)/push (x)\n",
       "x\n",
       "Figure 1.3: A stack.\n",
       "removed from the top of the stack. This structure is so common that it\n",
       "gets its own name: Stack . Often, when discussing a Stack , the names\n",
       "ofadd(x) and remove () are changed to push (x) and pop(); this is to avoid\n",
       "confusing the LIFO and FIFO queueing disciplines.\n",
       "ADeque is a generalization of both the FIFO Queue and LIFO Queue\n",
       "(Stack ). A Deque represents a sequence of elements, with a front and a\n",
       "back. Elements can be added at the front of the sequence or the back of\n",
       "the sequence. The names of the Deque operations are self-explanatory:\n",
       "addFirst (x),removeFirst (),addLast (x), and removeLast (). It is worth\n",
       "noting that a Stack can be implemented using only addFirst (x) and\n",
       "removeFirst () while a FIFO Queue can be implemented using addLast (x)\n",
       "andremoveFirst ().\n",
       "1.2.2 The List Interface: Linear Sequences\n",
       "This book will talk very little about the FIFO Queue ,Stack , orDeque in-\n",
       "terfaces. This is because these interfaces are subsumed by the List inter-\n",
       "face. A List , illustrated in Figure 1.4, represents a sequence, x0,...,xn−1,\n",
       "6<br>"
      ],
      "text/plain": [
       "<IPython.core.display.Markdown object>"
      ]
     },
     "metadata": {},
     "output_type": "display_data"
    },
    {
     "data": {
      "text/markdown": [
       "**Node ID:** 7dfa3f13-2951-42f7-9e8d-008f0c112c35<br>**Similarity:** 3.764336585998535<br>**Text:** For example,\n",
       "+1,−1,+1,−1 is a Dyck word, but +1 ,−1,−1,+1 is not a Dyck word since\n",
       "the preﬁx +1−1−1<0. Describe any relationship between Dyck words\n",
       "andStack push (x) and pop() operations.\n",
       "Exercise 1.3. Amatched string is a sequence of{,}, (, ), [, and ] characters\n",
       "that are properly matched. For example, “ {{()[]}}” is a matched string, but\n",
       "this “{{()]}” is not, since the second {is matched with a ]. Show how to\n",
       "use a stack so that, given a string of length n, you can determine if it is a\n",
       "matched string in O(n) time.\n",
       "Exercise 1.4. Suppose you have a Stack ,s, that supports only the push (x)\n",
       "and pop() operations. Show how, using only a FIFO Queue ,q, you can\n",
       "reverse the order of all elements in s.\n",
       "Exercise 1.5. Using a USet , implement a Bag. ABagis like a USet —it sup-\n",
       "ports the add(x),remove (x) and find (x) methods—but it allows duplicate\n",
       "27<br>"
      ],
      "text/plain": [
       "<IPython.core.display.Markdown object>"
      ]
     },
     "metadata": {},
     "output_type": "display_data"
    }
   ],
   "source": [
    "retrieved_nodes = bm25_retriever.retrieve(\"What is the difference between stack and queue?\")\n",
    "for node in retrieved_nodes:\n",
    "    display_source_node(node, source_length=5000)"
   ]
  },
  {
   "cell_type": "code",
   "execution_count": 9,
   "metadata": {},
   "outputs": [],
   "source": [
    "\n",
    "from llama_index.core import VectorStoreIndex, StorageContext\n",
    "from llama_index.core.storage.docstore import SimpleDocumentStore\n",
    "from llama_index.vector_stores.chroma import ChromaVectorStore\n",
    "import chromadb\n",
    "\n",
    "docstore = SimpleDocumentStore()\n",
    "docstore.add_documents(nodes)\n",
    "\n",
    "db = chromadb.PersistentClient(path=\"./chroma_db\")\n",
    "chroma_collection = db.get_or_create_collection(\"dense_vectors\")\n",
    "vector_store = ChromaVectorStore(chroma_collection=chroma_collection)\n",
    "\n",
    "storage_context = StorageContext.from_defaults(\n",
    "    docstore=docstore, vector_store=vector_store\n",
    ")\n",
    "\n",
    "index = VectorStoreIndex(nodes=nodes, storage_context=storage_context)"
   ]
  },
  {
   "cell_type": "code",
   "execution_count": 10,
   "metadata": {},
   "outputs": [],
   "source": [
    "import nest_asyncio\n",
    "\n",
    "nest_asyncio.apply()\n",
    "\n",
    "from llama_index.core.retrievers import QueryFusionRetriever\n",
    "\n",
    "retriever = QueryFusionRetriever(\n",
    "    [\n",
    "        index.as_retriever(similarity_top_k=2),\n",
    "        BM25Retriever.from_defaults(\n",
    "            docstore=index.docstore, similarity_top_k=2\n",
    "        ),\n",
    "    ],\n",
    "    num_queries=1,\n",
    "    use_async=True,\n",
    ")"
   ]
  },
  {
   "cell_type": "code",
   "execution_count": 11,
   "metadata": {},
   "outputs": [
    {
     "data": {
      "text/markdown": [
       "**Node ID:** 4aa6d813-4099-4ca1-a1b9-37334b69244e<br>**Similarity:** 3.930213451385498<br>**Text:** §1.2 Introduction\n",
       "16add(x)remove ()/deleteMin ()\n",
       "x6\n",
       "133\n",
       "Figure 1.2: A priority Queue .\n",
       "· · ·\n",
       "remove ()/pop ()add (x)/push (x)\n",
       "x\n",
       "Figure 1.3: A stack.\n",
       "removed from the top of the stack. This structure is so common that it\n",
       "gets its own name: Stack . Often, when discussing a Stack , the names\n",
       "ofadd(x) and remove () are changed to push (x) and pop(); this is to avoid\n",
       "confusing the LIFO and FIFO queueing disciplines.\n",
       "ADeque is a generalization of both the FIFO Queue and LIFO Queue\n",
       "(Stack ). A Deque represents a sequence of elements, with a front and a\n",
       "back. Elements can be added at the front of the sequence or the back of\n",
       "the sequence. The names of the Deque operations are self-explanatory:\n",
       "addFirst (x),removeFirst (),addLast (x), and removeLast (). It is worth\n",
       "noting that a Stack can be implemented using only addFirst (x) and\n",
       "removeFirst () while a FIFO Queue can be implemented using addLast (x)\n",
       "andremoveFirst ().\n",
       "1.2.2 The List Interface: Linear Sequences\n",
       "This book will talk very little about the FIFO Queue ,Stack , orDeque in-\n",
       "terfaces. This is because these interfaces are subsumed by the List inter-\n",
       "face. A List , illustrated in Figure 1.4, represents a sequence, x0,...,xn−1,\n",
       "6<br>"
      ],
      "text/plain": [
       "<IPython.core.display.Markdown object>"
      ]
     },
     "metadata": {},
     "output_type": "display_data"
    },
    {
     "data": {
      "text/markdown": [
       "**Node ID:** 7dfa3f13-2951-42f7-9e8d-008f0c112c35<br>**Similarity:** 3.764336585998535<br>**Text:** For example,\n",
       "+1,−1,+1,−1 is a Dyck word, but +1 ,−1,−1,+1 is not a Dyck word since\n",
       "the preﬁx +1−1−1<0. Describe any relationship between Dyck words\n",
       "andStack push (x) and pop() operations.\n",
       "Exercise 1.3. Amatched string is a sequence of{,}, (, ), [, and ] characters\n",
       "that are properly matched. For example, “ {{()[]}}” is a matched string, but\n",
       "this “{{()]}” is not, since the second {is matched with a ]. Show how to\n",
       "use a stack so that, given a string of length n, you can determine if it is a\n",
       "matched string in O(n) time.\n",
       "Exercise 1.4. Suppose you have a Stack ,s, that supports only the push (x)\n",
       "and pop() operations. Show how, using only a FIFO Queue ,q, you can\n",
       "reverse the order of all elements in s.\n",
       "Exercise 1.5. Using a USet , implement a Bag. ABagis like a USet —it sup-\n",
       "ports the add(x),remove (x) and find (x) methods—but it allows duplicate\n",
       "27<br>"
      ],
      "text/plain": [
       "<IPython.core.display.Markdown object>"
      ]
     },
     "metadata": {},
     "output_type": "display_data"
    }
   ],
   "source": [
    "nodes = retriever.retrieve(\"What is the difference between stack and queue?\")\n",
    "for node in nodes:\n",
    "    display_source_node(node, source_length=5000)"
   ]
  },
  {
   "cell_type": "code",
   "execution_count": 12,
   "metadata": {},
   "outputs": [],
   "source": [
    "from llama_index.core.query_engine import RetrieverQueryEngine\n",
    "\n",
    "query_engine = RetrieverQueryEngine(retriever)"
   ]
  },
  {
   "cell_type": "code",
   "execution_count": 13,
   "metadata": {},
   "outputs": [
    {
     "name": "stdout",
     "output_type": "stream",
     "text": [
      "A Stack can be thought of as a LIFO (Last-In-First-Out) data structure where elements are removed from the top of the stack. On the other hand, a Queue can be viewed as a FIFO (First-In-First-Out) data structure where elements are added at one end and removed from the other end.\n"
     ]
    }
   ],
   "source": [
    "response = query_engine.query(\"What is the difference between stack and queue?\")\n",
    "print(response)"
   ]
  },
  {
   "cell_type": "code",
   "execution_count": null,
   "metadata": {},
   "outputs": [],
   "source": []
  }
 ],
 "metadata": {
  "kernelspec": {
   "display_name": ".venv",
   "language": "python",
   "name": "python3"
  },
  "language_info": {
   "codemirror_mode": {
    "name": "ipython",
    "version": 3
   },
   "file_extension": ".py",
   "mimetype": "text/x-python",
   "name": "python",
   "nbconvert_exporter": "python",
   "pygments_lexer": "ipython3",
   "version": "3.10.12"
  }
 },
 "nbformat": 4,
 "nbformat_minor": 2
}
