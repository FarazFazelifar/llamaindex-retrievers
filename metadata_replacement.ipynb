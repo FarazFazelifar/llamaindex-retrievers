{
 "cells": [
  {
   "cell_type": "markdown",
   "metadata": {},
   "source": [
    "# Metadata Replacement Retriever\n",
    "- Pros:\n",
    "  - pass\n",
    "- Cons:\n",
    "  - pass"
   ]
  },
  {
   "cell_type": "code",
   "execution_count": 1,
   "metadata": {},
   "outputs": [],
   "source": [
    "from llama_index.core import Settings\n",
    "from llama_index.embeddings.ollama import OllamaEmbedding\n",
    "from llama_index.llms.ollama import Ollama\n",
    "\n",
    "ollama_embedding = OllamaEmbedding(\n",
    "    model_name=\"mxbai-embed-large\",\n",
    "    base_url=\"http://localhost:11434\",\n",
    ")\n",
    "\n",
    "ollama = Ollama(\n",
    "    model=\"llama3.2:3b-instruct-fp16\",\n",
    "    base_url=\"http://localhost:11434\"\n",
    ")\n",
    "\n",
    "Settings.llm = ollama\n",
    "Settings.embed_model = ollama_embedding"
   ]
  },
  {
   "cell_type": "code",
   "execution_count": 2,
   "metadata": {},
   "outputs": [],
   "source": [
    "from llama_index.core.node_parser import SentenceWindowNodeParser\n",
    "from llama_index.core.node_parser import SentenceSplitter\n",
    "\n",
    "# create the sentence window node parser w/ default settings\n",
    "node_parser = SentenceWindowNodeParser.from_defaults(\n",
    "    window_size=3,\n",
    "    window_metadata_key=\"window\",\n",
    "    original_text_metadata_key=\"original_text\",\n",
    ")\n",
    "\n",
    "# base node parser is a sentence splitter\n",
    "text_splitter = SentenceSplitter()\n",
    "\n",
    "Settings.text_splitter = text_splitter"
   ]
  },
  {
   "cell_type": "code",
   "execution_count": 3,
   "metadata": {},
   "outputs": [],
   "source": [
    "from llama_index.core import SimpleDirectoryReader\n",
    "\n",
    "documents = SimpleDirectoryReader(\n",
    "    input_files=[\"../documents/ods-cpp (1).pdf\"]\n",
    ").load_data()"
   ]
  },
  {
   "cell_type": "code",
   "execution_count": 4,
   "metadata": {},
   "outputs": [],
   "source": [
    "nodes = node_parser.get_nodes_from_documents(documents)\n",
    "base_nodes = text_splitter.get_nodes_from_documents(documents)\n"
   ]
  },
  {
   "cell_type": "code",
   "execution_count": 5,
   "metadata": {},
   "outputs": [],
   "source": [
    "from llama_index.core import VectorStoreIndex\n",
    "\n",
    "sentence_index = VectorStoreIndex(nodes)\n",
    "base_index = VectorStoreIndex(base_nodes)"
   ]
  },
  {
   "cell_type": "code",
   "execution_count": 6,
   "metadata": {},
   "outputs": [
    {
     "name": "stdout",
     "output_type": "stream",
     "text": [
      "A Stack and a Queue are two different data structures that serve distinct purposes. \n",
      "\n",
      "The primary difference between them lies in their ordering of elements. In a Stack, elements are added and removed from the top of the structure, whereas in a Queue, elements are added to one end and removed from the other. This results in a LIFO (Last-In-First-Out) ordering for Stacks and an FIFO (First-In-First-Out) ordering for Queues.\n",
      "\n",
      "Another difference lies in how elements can be added or removed from them. A Stack has only two operations, addFirst(x) and removeFirst(), whereas a Queue also includes remove() with no argument to indicate that the next element should be removed regardless of its position.\n"
     ]
    }
   ],
   "source": [
    "from llama_index.core.postprocessor import MetadataReplacementPostProcessor\n",
    "\n",
    "query_engine = sentence_index.as_query_engine(\n",
    "    similarity_top_k=2,\n",
    "    # the target key defaults to `window` to match the node_parser's default\n",
    "    node_postprocessors=[\n",
    "        MetadataReplacementPostProcessor(target_metadata_key=\"window\")\n",
    "    ],\n",
    ")\n",
    "window_response = query_engine.query(\n",
    "    \"What is the difference between stack and queue?\"\n",
    ")\n",
    "print(window_response)"
   ]
  },
  {
   "cell_type": "code",
   "execution_count": 7,
   "metadata": {},
   "outputs": [
    {
     "name": "stdout",
     "output_type": "stream",
     "text": [
      "Window: Interfaces §1.2\n",
      "x · · ·\n",
      "add (x)/enqueue (x) remove ()/dequeue ()\n",
      "Figure 1.1: A FIFO Queue .\n",
      " 1.2.1 The Queue ,Stack , and Deque Interfaces\n",
      "TheQueue interface represents a collection of elements to which we can\n",
      "add elements and remove the next element.  More precisely, the opera-\n",
      "tions supported by the Queue interface are\n",
      "•add(x): add the value xto the Queue\n",
      "•remove (): remove the next (previously added) value, y, from the\n",
      "Queue and return y\n",
      "Notice that the remove () operation takes no argument.  The Queue ’squeue-\n",
      "ing discipline decides which element should be removed.  There are many\n",
      "possible queueing disciplines, the most common of which include FIFO,\n",
      "priority, and LIFO.\n",
      "\n",
      "------------------\n",
      "Original Sentence: 1.2.1 The Queue ,Stack , and Deque Interfaces\n",
      "TheQueue interface represents a collection of elements to which we can\n",
      "add elements and remove the next element. \n"
     ]
    }
   ],
   "source": [
    "window = window_response.source_nodes[0].node.metadata[\"window\"]\n",
    "sentence = window_response.source_nodes[0].node.metadata[\"original_text\"]\n",
    "\n",
    "print(f\"Window: {window}\")\n",
    "print(\"------------------\")\n",
    "print(f\"Original Sentence: {sentence}\")"
   ]
  },
  {
   "cell_type": "code",
   "execution_count": 8,
   "metadata": {},
   "outputs": [
    {
     "name": "stdout",
     "output_type": "stream",
     "text": [
      "The primary difference between a Stack and a Queue lies in the order in which elements are removed. In a Stack, the most recently added element is removed first, whereas in a Queue, the oldest element is typically removed first. This is often referred to as a Last-In-First-Out (LIFO) discipline for stacks and a First-In-First-Out (FIFO) discipline for queues.\n"
     ]
    }
   ],
   "source": [
    "query_engine = base_index.as_query_engine(similarity_top_k=2)\n",
    "vector_response = query_engine.query(\n",
    "    \"What is the difference between stack and queue?\"\n",
    ")\n",
    "print(vector_response)"
   ]
  },
  {
   "cell_type": "code",
   "execution_count": 9,
   "metadata": {},
   "outputs": [
    {
     "name": "stdout",
     "output_type": "stream",
     "text": [
      "Two structures that are often confused with each other due to their similar naming conventions but distinct behaviors.\n",
      "\n",
      "A Stack follows a Last-In-First-Out (LIFO) discipline, meaning that the most recently added element is also the next one removed. This structure is so common that it gets its own name: Stack. In contrast, a Queue follows a First-In-First-Out (FIFO) discipline, where elements are removed in the same order they were added.\n",
      "\n",
      "In other words, when you add an element to a stack, it goes on top of the existing elements. When you remove an element from a stack, you take the one at the top. In contrast, when you add an element to a queue, it gets added to the end of the line. When you remove an element from a queue, you take the one that was added first.\n",
      "\n",
      "These two disciplines lead to different operations and use cases for stacks and queues. Stacks are often used in parsing expressions, evaluating postfix notation, or implementing recursive algorithms iteratively, while queues are commonly used in job scheduling, print queues, or network protocols.\n"
     ]
    }
   ],
   "source": [
    "query_engine = base_index.as_query_engine(similarity_top_k=5)\n",
    "vector_response = query_engine.query(\n",
    "    \"What is the difference between stack and queue?\"\n",
    ")\n",
    "print(vector_response)"
   ]
  },
  {
   "cell_type": "code",
   "execution_count": 10,
   "metadata": {},
   "outputs": [
    {
     "name": "stdout",
     "output_type": "stream",
     "text": [
      "1.2.1 The Queue ,Stack , and Deque Interfaces\n",
      "TheQueue interface represents a collection of elements to which we can\n",
      "add elements and remove the next element. \n",
      "--------\n",
      "It is worth\n",
      "noting that a Stack can be implemented using only addFirst (x) and\n",
      "removeFirst () while a FIFO Queue can be implemented using addLast (x)\n",
      "andremoveFirst ().\n",
      "\n",
      "--------\n"
     ]
    }
   ],
   "source": [
    "for source_node in window_response.source_nodes:\n",
    "    print(source_node.node.metadata[\"original_text\"])\n",
    "    print(\"--------\")"
   ]
  },
  {
   "cell_type": "code",
   "execution_count": 11,
   "metadata": {},
   "outputs": [
    {
     "name": "stdout",
     "output_type": "stream",
     "text": [
      "AMOC mentioned? False\n",
      "--------\n",
      "AMOC mentioned? False\n",
      "--------\n",
      "AMOC mentioned? False\n",
      "--------\n",
      "AMOC mentioned? False\n",
      "--------\n",
      "AMOC mentioned? False\n",
      "--------\n"
     ]
    }
   ],
   "source": [
    "for node in vector_response.source_nodes:\n",
    "    print(\"AMOC mentioned?\", \"AMOC\" in node.node.text)\n",
    "    print(\"--------\")"
   ]
  },
  {
   "cell_type": "code",
   "execution_count": null,
   "metadata": {},
   "outputs": [],
   "source": [
    "print(vector_response.source_nodes[2].node.text)\n"
   ]
  }
 ],
 "metadata": {
  "kernelspec": {
   "display_name": ".venv",
   "language": "python",
   "name": "python3"
  },
  "language_info": {
   "codemirror_mode": {
    "name": "ipython",
    "version": 3
   },
   "file_extension": ".py",
   "mimetype": "text/x-python",
   "name": "python",
   "nbconvert_exporter": "python",
   "pygments_lexer": "ipython3",
   "version": "3.10.12"
  }
 },
 "nbformat": 4,
 "nbformat_minor": 2
}
